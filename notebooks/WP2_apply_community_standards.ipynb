{
 "cells": [
  {
   "cell_type": "code",
   "execution_count": null,
   "id": "d6ed0d5a",
   "metadata": {},
   "outputs": [],
   "source": [
    "################################################################################################################################\n",
    "###################################### -*-  RAPESEED METABOLIC NETWORK -*- #####################################################\n",
    "################################################################################################################################\n",
    "\n",
    "\n",
    "################################################################################################################################\n",
    "################################ -*- Apply Community standards for AraCore Model-*- ############################################\n",
    "################################################################################################################################\n",
    "\n",
    "\n",
    "################################################################\n",
    "### 1st step : Parsing the file\n",
    "################################################################\n",
    "\n",
    "\n",
    "import cobra\n",
    "import pandas as pd\n",
    "\n",
    "\n",
    "def parsing(fileName):\n",
    "    model = cobra.io.read_sbml_model(fileName)\n",
    "    print(\"Reactions\")\n",
    "    print(\"---------\")\n",
    "    for x in model.reactions:\n",
    "        print(\"%s : %s\" % (x.id, x.reaction))\n",
    "\n",
    "    print(\"Metabolites\")\n",
    "    print(\"-----------\")\n",
    "    for x in model.metabolites:\n",
    "        print(\"%9s : %s\" % (x.id, x.formula))\n",
    "\n",
    "    print(\"Genes\")\n",
    "    print(\"-----\")\n",
    "    for x in model.genes:\n",
    "        associated_ids = (i.id for i in x.reactions)\n",
    "        print(\"%s is associated with reactions: %s\" %\n",
    "        (x.id, \"{\" + \", \".join(associated_ids) + \"}\"))\n",
    "\n",
    "parsing(\"2018-23-05-mb-genC3.sbml\")\n",
    "\n",
    "\n",
    "###############################################################\n",
    "### 2nd step : Introduce new annotations in the initial model\n",
    "###############################################################"
   ]
  }
 ],
 "metadata": {
  "kernelspec": {
   "display_name": "Python 3",
   "language": "python",
   "name": "python3"
  },
  "language_info": {
   "codemirror_mode": {
    "name": "ipython",
    "version": 3
   },
   "file_extension": ".py",
   "mimetype": "text/x-python",
   "name": "python",
   "nbconvert_exporter": "python",
   "pygments_lexer": "ipython3",
   "version": "3.9.2"
  }
 },
 "nbformat": 4,
 "nbformat_minor": 5
}
