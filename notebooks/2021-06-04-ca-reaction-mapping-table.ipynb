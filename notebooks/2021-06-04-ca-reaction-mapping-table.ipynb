{
 "cells": [
  {
   "cell_type": "markdown",
   "id": "e92cfa44",
   "metadata": {},
   "source": [
    "# Creating reaction mapping table"
   ]
  },
  {
   "cell_type": "markdown",
   "id": "12f9fefd",
   "metadata": {},
   "source": [
    "## I / Import the resources : AraCore model and ModelSEED and BiGG tables "
   ]
  },
  {
   "cell_type": "markdown",
   "id": "fe65df39",
   "metadata": {},
   "source": [
    "### 1) Install missing modules and load modules"
   ]
  },
  {
   "cell_type": "code",
   "execution_count": null,
   "id": "1eefc31e",
   "metadata": {},
   "outputs": [],
   "source": [
    "import pandas as pd\n",
    "import numpy as np\n",
    "import cobra\n",
    "import requests"
   ]
  },
  {
   "cell_type": "markdown",
   "id": "9a28767d",
   "metadata": {},
   "source": [
    "### 2) Load AraCore Model"
   ]
  },
  {
   "cell_type": "code",
   "execution_count": null,
   "id": "f2714982",
   "metadata": {},
   "outputs": [],
   "source": [
    "#Get file from internet : GitHub\n",
    "fileName = 'https://raw.githubusercontent.com/ma-blaetke/CBM_C3_C4_Metabolism/master/data/2018-23-05-mb-genC3.sbml'\n",
    "r = requests.get(fileName)"
   ]
  },
  {
   "cell_type": "code",
   "execution_count": null,
   "id": "204ad1b8",
   "metadata": {},
   "outputs": [],
   "source": [
    "#Create the model\n",
    "model = cobra.io.read_sbml_model(r.text)\n",
    "model"
   ]
  },
  {
   "cell_type": "markdown",
   "id": "70a84bec",
   "metadata": {},
   "source": [
    "### 3) Correct compartment naming in AraCore Model according to BiGG naming conventions"
   ]
  },
  {
   "cell_type": "code",
   "execution_count": null,
   "id": "37599593",
   "metadata": {},
   "outputs": [],
   "source": [
    "#print the names of the compartments, then correct each of them\n",
    "model.compartments"
   ]
  },
  {
   "cell_type": "code",
   "execution_count": null,
   "id": "ffe04b96",
   "metadata": {},
   "outputs": [],
   "source": [
    "bigg_comparments_corrected = {\"c\":\"cytosol\",\n",
    "                             \"e\":\"extracellular space\",\n",
    "                             \"p\":\"periplasm\",\n",
    "                             \"m\":\"mitochondria\",\n",
    "                             \"x\":\"peroxisome/glyoxysome\",\n",
    "                             \"r\":\"endoplasmic reticulum\",\n",
    "                             \"v\":\"vacuole\",\n",
    "                             \"n\":\"nucleus\",\n",
    "                             \"g\":\"golgi apparatus\",\n",
    "                             \"u\":\"thylakoid\",\n",
    "                             \"l\":\"lysosome\",\n",
    "                             \"h\":\"chloroplast\",\n",
    "                             \"f\":\"flagellum\",\n",
    "                             \"s\":\"eyespot\",\n",
    "                             \"im\":\"intermembrane space of mitochondria\",\n",
    "                             \"cx\":\"carboxyzome\",\n",
    "                             \"um\":\"thylakoid membrane\",\n",
    "                             \"cm\":\"cytosolic membrane\",\n",
    "                             \"i\":\"inner mitochondrial compartment\",\n",
    "                             \"mm\":\"mitochondrial intermembrane\",\n",
    "                             \"w\":\"wildtype staph aureus\",\n",
    "                             \"y\":\"cytochrome complex\"}"
   ]
  },
  {
   "cell_type": "code",
   "execution_count": null,
   "id": "dfacfe9f",
   "metadata": {},
   "outputs": [],
   "source": [
    "#http://bigg.ucsd.edu/compartments\n",
    "\n",
    "#c\tcytosol\n",
    "#h\tchloroplast\n",
    "#m\tmitochondria\n",
    "#x\tperoxisome/glyoxysome\n",
    "#im\tintermembrane space of mitochondria\n",
    "#h\tchloroplast\n",
    "#ul thylakoid lumen <<< NEW\n",
    "\n",
    "#Create a pandas Series for compartment mapping\n",
    "#pandas Series = One-dimensional ndarray with axis labels\n",
    "df_compartment_mapping = pd.Series(\n",
    "    {\"c\":\"c\", #cytosol\n",
    "    \"h\":\"h\", #chloroplast\n",
    "    \"m\":\"m\", #mitochondria\n",
    "    \"l\":\"ul\", #thylakoid lumen <<< NEW, not in BiGG compartment list\n",
    "    \"i\":\"im\", #intermembrane space of mitochondria\n",
    "    \"p\":\"x\", #peroxisome/glyoxysome\n",
    "    \"e\":\"e\" #extracellular space << NEW, not yet in model\n",
    "    })"
   ]
  },
  {
   "cell_type": "markdown",
   "id": "b62948c7",
   "metadata": {},
   "source": [
    "### 4) Create Reaction Table for AraCore Model"
   ]
  },
  {
   "cell_type": "code",
   "execution_count": null,
   "id": "e7ae18e4",
   "metadata": {},
   "outputs": [],
   "source": [
    "#Create mapping table\n",
    "df_reactions_aracore = pd.DataFrame(\n",
    "    {\n",
    "        \"aracore_ids\":[x.id for x in model.reactions],\n",
    "        \"aracore_name\":[x.name for x in model.reactions],\n",
    "        \"aracore_annotations\":[x.annotation for x in model.reactions]\n",
    "    })\n",
    "df_reactions_aracore.head(25)"
   ]
  },
  {
   "cell_type": "code",
   "execution_count": null,
   "id": "349a81d9",
   "metadata": {},
   "outputs": [],
   "source": [
    "#Set index to acacore_ids to make the renaming of certain labels easiers\n",
    "df_reactions_aracore.set_index(\"aracore_ids\",inplace=True) \n",
    "df_reactions_aracore.head(25)"
   ]
  },
  {
   "cell_type": "code",
   "execution_count": null,
   "id": "1d4506f5",
   "metadata": {},
   "outputs": [],
   "source": [
    "df_reactions_aracore.to_csv('../data/processed/2021-06-04-df-reactions-aracore.csv')"
   ]
  },
  {
   "cell_type": "code",
   "execution_count": null,
   "id": "8b52e92c",
   "metadata": {},
   "outputs": [],
   "source": [
    "#BiGG naming convention https://github.com/SBRG/bigg_models/wiki/BiGG-Models-ID-Specification-and-Guidelines\n",
    "# - Reaction symbols all neeed to be uppercase\n",
    "# - Only contain upper and lowercase letters, numbers, and underscores\n",
    "\n",
    "#Rename names of a few reactions : \n",
    "# - StS_h1\n",
    "# - StS_h2\n",
    "# - StS_h3\n",
    "# - CeS_c1\n",
    "# - CeS_c2\n",
    "# - CeS_c3\n",
    "# - AGluK\n",
    "\n",
    "#df.rename(index= {'name': 'new_name'})\n",
    "#Rename reaction ids StS_h1, StS_h3, StS_h2\n",
    "df_reactions_aracore.rename(index={'StS_h1':'StS1_h'}, inplace=True)\n",
    "df_reactions_aracore.rename(index={'StS_h2':'StS2_h'}, inplace=True)\n",
    "df_reactions_aracore.rename(index={'StS_h3':'StS3_h'}, inplace=True)\n",
    "\n",
    "#Rename reaction ids CeS_c1, CeS_c2, CeS_c3\n",
    "df_reactions_aracore.rename(index={'CeS_c1':'CeS1_c'}, inplace=True)\n",
    "df_reactions_aracore.rename(index={'CeS_c2':'CeS2_c'}, inplace=True)\n",
    "df_reactions_aracore.rename(index={'CeS_c3':'CeS3_c'}, inplace=True)\n",
    "\n",
    "#Rename reaction id AGluK\n",
    "df_reactions_aracore.rename(index={'AGluK':'AGluK_h'}, inplace=True)\n",
    "\n",
    "\n",
    "#Rename all import reaction ids, add \"_e\" for extracellular space\n",
    "for r_obj in model.reactions.query(lambda rxn: (rxn.id.startswith('Im_'))):\n",
    "  df_reactions_aracore.rename(index={r_obj.id: f\"{r_obj.id}_e\"}, inplace=True)\n",
    "# lambda rxn: (rxn.id.startswith('Im_')) = research function, applyed for all the reactions (rxn)\n",
    "# id is the attribute of the reaction (rxn)\n",
    "# query() = method of reactions\n",
    "    \n",
    "    \n",
    "#Rename all export reaction ids, add \"_e\" for extracellular space\n",
    "for r_obj in model.reactions.query(lambda rxn: (rxn.id.startswith('Ex_'))):\n",
    "    df_reactions_aracore.rename(index={r_obj.id: f\"{r_obj.id}_e\"}, inplace=True)\n",
    "    \n",
    "\n",
    "#Rename all transport reaction ids, add compartment symbol of first metabolite\n",
    "for r_obj in model.reactions.query(lambda rxn: (rxn.id.startswith('Tr_'))): \n",
    "  met_first_comp = list(r_obj.metabolites.keys())[0].compartment\n",
    "  if r_obj.id.rsplit('_',1)[-1] in ['mc','hc']:\n",
    "    r_id_new = f\"{r_obj.id.rsplit('_',1)[0]}_{met_first_comp}\"\n",
    "  else:\n",
    "    r_id_new = f\"{r_obj.id}_{met_first_comp}\"\n",
    "  df_reactions_aracore.rename(index={r_obj.id: r_id_new}, inplace=True)\n",
    "\n",
    "df_reactions_aracore.reset_index(inplace=True) #Reset index to numeric labels, to be able to use the apply function on 'aracore_updated_ids' which is not possible as index\n",
    "\n",
    "#Update compartment symbols in metabolite ids and make metabolite ids lower case\n",
    "df_reactions_aracore['aracore_updated_ids'] = df_reactions_aracore['aracore_ids'].apply(lambda r_id: f\"{r_id.rsplit('_',1)[0].upper()}_{df_compartment_mapping[r_id.rsplit('_',1)[-1]]}\")\n",
    "\n",
    "#Create universal metabolite ids by removing compartment symbols\n",
    "df_reactions_aracore['aracore_updated_universal_ids'] = df_reactions_aracore['aracore_updated_ids'].apply(lambda r_id: r_id.rsplit('_',1)[0])\n",
    "\n",
    "df_reactions_aracore.head(25)"
   ]
  },
  {
   "cell_type": "code",
   "execution_count": null,
   "id": "41a20af0",
   "metadata": {},
   "outputs": [],
   "source": [
    "df_reactions_aracore[df_reactions_aracore['aracore_ids'].str.contains('DASH')]"
   ]
  },
  {
   "cell_type": "code",
   "execution_count": null,
   "id": "ffe54b63",
   "metadata": {},
   "outputs": [],
   "source": [
    "# Extract Kegg Id from 'aracore_annotations' column (annotations are already provided as dictionaries => key \"kegg.reactions\")\n",
    "df_reactions_aracore['kegg_id'] = df_reactions_aracore['aracore_annotations'].apply(lambda anno_dict: anno_dict['kegg.reaction'] if 'kegg.reaction' in anno_dict.keys() else None)\n",
    "\n",
    "df_reactions_aracore.head(25)"
   ]
  },
  {
   "cell_type": "code",
   "execution_count": null,
   "id": "cb4b73eb",
   "metadata": {},
   "outputs": [],
   "source": [
    "# Extract Ec code from 'aracore_annotations' column (annotations are already provided as dictionaries => key \"ec-code\")\n",
    "df_reactions_aracore['ec-code'] = df_reactions_aracore['aracore_annotations'].apply(lambda anno_dict: anno_dict['ec-code'] if 'ec-code' in anno_dict.keys() else None)\n",
    "\n",
    "df_reactions_aracore.head(25)"
   ]
  },
  {
   "cell_type": "markdown",
   "id": "aed9ed06",
   "metadata": {},
   "source": [
    "### 5) Import BiGG reaction file"
   ]
  },
  {
   "cell_type": "code",
   "execution_count": null,
   "id": "00607758",
   "metadata": {},
   "outputs": [],
   "source": [
    "# Loag BIGG Reaction Table\n",
    "bigg_reactions_url = 'http://bigg.ucsd.edu/static/namespace/bigg_models_reactions.txt'\n",
    "df_reactions_bigg = pd.read_csv(bigg_reactions_url, sep='\\t')\n",
    "df_reactions_bigg.loc[170:200,:] # I just selected a range of reactions that will have a kegg identifier for sure, its only for demo"
   ]
  },
  {
   "cell_type": "code",
   "execution_count": null,
   "id": "65da4de0",
   "metadata": {},
   "outputs": [],
   "source": [
    "#Convert string of database links into dictionaries of database identifier/symbol (key) and database-specific metabolite/annotation id (value)\n",
    "df_reactions_bigg['database_links'] = df_reactions_bigg['database_links'].apply(lambda str_links: {db_link.split(':',1)[-1].split('/')[-2]: db_link.split(':',1)[-1].split('/')[-1] for db_link in str_links.split(';')} if isinstance(str_links,str) else {})"
   ]
  },
  {
   "cell_type": "code",
   "execution_count": null,
   "id": "bf1af022",
   "metadata": {},
   "outputs": [],
   "source": [
    "#All database keys in database_links\n",
    "np.unique(df_reactions_bigg['database_links'].apply(lambda x: list(x.keys())).sum())"
   ]
  },
  {
   "cell_type": "code",
   "execution_count": null,
   "id": "e4a8eea9",
   "metadata": {},
   "outputs": [],
   "source": [
    "#Extract kegg id from 'database_links' column (dictionary => key \"kegg.reaction\")\n",
    "df_reactions_bigg['kegg.reaction'] = df_reactions_bigg['database_links'].apply(lambda dict_db_link:  dict_db_link['kegg.reaction'] if 'kegg.reaction' in dict_db_link.keys() else None)\n",
    "df_reactions_bigg.loc[170:200]"
   ]
  },
  {
   "cell_type": "code",
   "execution_count": null,
   "id": "db0d04ad",
   "metadata": {},
   "outputs": [],
   "source": [
    "#Extract ec-code from 'database_links' column (dictionary => key \"ec-code\")\n",
    "df_reactions_bigg['ec-code'] = df_reactions_bigg['database_links'].apply(lambda dict_db_link:  dict_db_link['ec-code'] if 'ec-code' in dict_db_link.keys() else None)\n",
    "df_reactions_bigg.loc[170:200]"
   ]
  },
  {
   "cell_type": "code",
   "execution_count": null,
   "id": "6ff5f3f0",
   "metadata": {},
   "outputs": [],
   "source": [
    "#Extract seed.reaction from 'database_links' column (dictionary => key \"seed.reaction\")\n",
    "df_reactions_bigg['seed.reaction'] = df_reactions_bigg['database_links'].apply(lambda dict_db_link:  dict_db_link['seed.reaction'] if 'seed.reaction' in dict_db_link.keys() else None)\n",
    "df_reactions_bigg.loc[170:200]"
   ]
  },
  {
   "cell_type": "markdown",
   "id": "bcd2628d",
   "metadata": {},
   "source": [
    "### 6) Import ModelSEED reaction file"
   ]
  },
  {
   "cell_type": "code",
   "execution_count": null,
   "id": "ec451083",
   "metadata": {},
   "outputs": [],
   "source": [
    "# Load ModelSeed Reaction Table\n",
    "\n",
    "seed_reactions_url = 'https://raw.githubusercontent.com/ModelSEED/ModelSEEDDatabase/master/Biochemistry/reactions.tsv'\n",
    "df_reactions_seed = pd.read_csv(seed_reactions_url, sep='\\t')\n",
    "\n",
    "df_reactions_seed.head(25)"
   ]
  },
  {
   "cell_type": "code",
   "execution_count": null,
   "id": "06c7bb54",
   "metadata": {},
   "outputs": [],
   "source": [
    "#Convert string of alias pairs into dictionaries of keys and value - \n",
    "# 1) split by \"|\" to sepertae the different key - value pairs\n",
    "# 2) split by \":\" to seperate keys and values\n",
    "df_reactions_seed['aliases'] = df_reactions_seed['aliases'].apply(lambda aliases_str: \n",
    "                                                                      {alias.split(':',1)[0]: alias.split(':',1)[-1] \n",
    "                                                                       for alias in aliases_str.split('|')} if isinstance(aliases_str, str) else {} )\n",
    "\n",
    "# Some of the keys have values that are again a strings with multiple items that need to be splitted\n",
    "# 3) split those  string by ';' and also remove leading and tailing white spaces \n",
    "df_reactions_seed['aliases'] = df_reactions_seed['aliases'].apply(lambda aliases_dict: \n",
    "                                                                      {alias_key:\n",
    "                                                                       [alias_value.strip() for alias_value in alias_values.split(';')]\n",
    "                                                                       for alias_key, alias_values in aliases_dict.items()}\n",
    "                                                                      )\n",
    "\n",
    "df_reactions_seed.head(25)"
   ]
  },
  {
   "cell_type": "code",
   "execution_count": null,
   "id": "80368e87",
   "metadata": {},
   "outputs": [],
   "source": [
    "#All possible keys in ModelSEED aliases => seems like only KEGG, BiGG and AraCyc would make sense\n",
    "#array(['AlgaGEM', 'AraCyc', 'AraGEM', 'BiGG', 'BrachyCyc', 'ChlamyCyc',\n",
    "#       'CornCyc', 'DF_Athaliana', 'EcoCyc', 'JM_Creinhardtii',\n",
    "#       'JP_Creinhardtii_MSB', 'JP_Creinhardtii_NMeth', 'KEGG', 'MaizeCyc',\n",
    "#       'Maize_C4GEM', 'MetaCyc', 'Name', 'PlantCyc', 'PoplarCyc',\n",
    "#       'RiceCyc', 'SorghumCyc', 'SoyCyc', 'TS_Athaliana', 'iAF1260',\n",
    "#       'iAF692', 'iAG612', 'iAO358', 'iAbaylyiv4', 'iGT196', 'iIN800',\n",
    "#       'iIT341', 'iJN746', 'iJR904', 'iMA945', 'iMEO21', 'iMM904',\n",
    "#       'iMO1053-PAO1', 'iMO1056', 'iND750', 'iNJ661', 'iPS189', 'iRR1083',\n",
    "#       'iRS1563', 'iRS1597', 'iSB619', 'iSO783', 'iYO844'], dtype='<U21')"
   ]
  },
  {
   "cell_type": "code",
   "execution_count": null,
   "id": "817df788",
   "metadata": {},
   "outputs": [],
   "source": [
    "#Get BiGG reaction ids\n",
    "df_reactions_seed['BiGG'] = df_reactions_seed['aliases'].apply(lambda dict_aliases:  dict_aliases['BiGG'] if 'BiGG' in dict_aliases.keys() else None)\n",
    "df_reactions_seed.head(25)"
   ]
  },
  {
   "cell_type": "code",
   "execution_count": null,
   "id": "48532494",
   "metadata": {},
   "outputs": [],
   "source": [
    "#Get BiGG reaction ids\n",
    "df_reactions_seed['BiGG'] = df_reactions_seed['aliases'].apply(lambda dict_aliases:  dict_aliases['BiGG'] if 'BiGG' in dict_aliases.keys() else None)\n",
    "df_reactions_seed.head(25)"
   ]
  },
  {
   "cell_type": "code",
   "execution_count": null,
   "id": "7f4897e7",
   "metadata": {},
   "outputs": [],
   "source": [
    "#Get BiGG reaction ids\n",
    "df_reactions_seed['KEGG'] = df_reactions_seed['aliases'].apply(lambda dict_aliases:  dict_aliases['KEGG'] if 'KEGG' in dict_aliases.keys() else None)\n",
    "df_reactions_seed.head(25)"
   ]
  },
  {
   "cell_type": "code",
   "execution_count": null,
   "id": "93e9162e",
   "metadata": {},
   "outputs": [],
   "source": [
    "#Get AraCyc reaction ids\n",
    "df_reactions_seed['AraCyc'] = df_reactions_seed['aliases'].apply(lambda dict_aliases:  dict_aliases['AraCyc'] if 'AraCyc' in dict_aliases.keys() else None)\n",
    "df_reactions_seed.head(25)"
   ]
  },
  {
   "cell_type": "code",
   "execution_count": null,
   "id": "79b0415d",
   "metadata": {},
   "outputs": [],
   "source": [
    "# 'ec_numbers' should also be convert into a list \n",
    "df_reactions_seed['ec_numbers'] = df_reactions_seed['ec_numbers'].astype(str)\n",
    "df_reactions_seed['ec_numbers'] = df_reactions_seed['ec_numbers'].apply(lambda x: x.split('|') if x else None)\n",
    "df_reactions_seed.head(25)"
   ]
  },
  {
   "cell_type": "markdown",
   "id": "9d6d5e41",
   "metadata": {},
   "source": [
    "## II / Extract the annotations from the AraCore model"
   ]
  },
  {
   "cell_type": "markdown",
   "id": "ab437fad",
   "metadata": {},
   "source": [
    "### Using KEGG Ids "
   ]
  },
  {
   "cell_type": "code",
   "execution_count": null,
   "id": "29cae126",
   "metadata": {},
   "outputs": [],
   "source": [
    "#Check if kegg_id of the aracore reactions is in any of the list of kegg ids mapped in the BiGG table\n",
    "df_reactions_aracore['is_bigg_kegg_id'] = df_reactions_aracore['kegg_id'].apply(lambda kegg_id: ((df_reactions_bigg['kegg.reaction'] == kegg_id).sum() > 0) if isinstance(kegg_id, str) else False)\n",
    "\n",
    "#get the BiGG ids where kegg ids are matching\n",
    "df_reactions_aracore['kegg_bigg_ids'] = df_reactions_aracore[['kegg_id','is_bigg_kegg_id']].apply(lambda x: \n",
    "                                                                                            df_reactions_bigg[df_reactions_bigg['kegg.reaction'] == x[0]]['bigg_id'].tolist() \n",
    "                                                                                            if x[1] \n",
    "                                                                                            else [None], axis=1)\n",
    "df_reactions_aracore.head(25)"
   ]
  },
  {
   "cell_type": "code",
   "execution_count": null,
   "id": "1b044d6d",
   "metadata": {},
   "outputs": [],
   "source": [
    "df_reactions_aracore['is_bigg_kegg_id'].value_counts() #=> 249 reactions mapped"
   ]
  },
  {
   "cell_type": "markdown",
   "id": "2e9a9de0",
   "metadata": {},
   "source": [
    "### Using Ec-code "
   ]
  },
  {
   "cell_type": "code",
   "execution_count": null,
   "id": "3c40965b",
   "metadata": {},
   "outputs": [],
   "source": [
    "#Check if ec-code of the aracore reactions is in any of the list of ec-code mapped in the BiGG table\n",
    "df_reactions_aracore['is_bigg_ec_code'] = df_reactions_aracore['ec-code'].apply(lambda kegg_id: ((df_reactions_bigg['ec-code'] == kegg_id).sum() > 0) if isinstance(kegg_id, str) else False)\n",
    "\n",
    "#get the ec-code ids where kegg ids are matching\n",
    "df_reactions_aracore['ec_bigg_ids'] = df_reactions_aracore[['ec-code','is_bigg_ec_code']].apply(lambda x: \n",
    "                                                                                            df_reactions_bigg[df_reactions_bigg['ec-code'] == x[0]]['bigg_id'].tolist() \n",
    "                                                                                            if x[1] \n",
    "                                                                                            else [None], axis=1)\n",
    "df_reactions_aracore.head(50)"
   ]
  },
  {
   "cell_type": "code",
   "execution_count": null,
   "id": "16ce3b11",
   "metadata": {},
   "outputs": [],
   "source": [
    "df_reactions_aracore['is_bigg_ec_code'].value_counts() #=> 249 reactions mapped "
   ]
  },
  {
   "cell_type": "markdown",
   "id": "020583f6",
   "metadata": {},
   "source": [
    "## III / Extract the KEGG id from the annotations we extracted previously (2nd step)"
   ]
  },
  {
   "cell_type": "markdown",
   "id": "6575623e",
   "metadata": {},
   "source": [
    "## IV / Merge AraCore table with BiGG one"
   ]
  },
  {
   "cell_type": "markdown",
   "id": "42790fd8",
   "metadata": {},
   "source": [
    "## V / Merge AraCore table with ModelSEED one"
   ]
  },
  {
   "cell_type": "markdown",
   "id": "31232f51",
   "metadata": {},
   "source": [
    "## VI / Aggregate the information"
   ]
  },
  {
   "cell_type": "markdown",
   "id": "601ebaf2",
   "metadata": {},
   "source": [
    "### Aggregate all BiGG ids from mapping of KEGG ids and Ec-codes "
   ]
  },
  {
   "cell_type": "code",
   "execution_count": null,
   "id": "dfaba56d",
   "metadata": {},
   "outputs": [],
   "source": [
    "#Fuse list of mapped BiGG ids by kegg and ec code \n",
    "df_reactions_aracore['kegg_ec_bigg_id'] = df_reactions_aracore[['ec_bigg_ids','kegg_bigg_ids']].apply(lambda x: list(filter(None, x[0]+x[1])), axis=1)\n",
    "\n",
    "#Create list of unique BiGG ids\n",
    "df_reactions_aracore['kegg_ec_bigg_id'].apply(lambda x: list(np.unique(x)))\n",
    "\n",
    "#Clean dataframe and remove cols\n",
    "df_reactions_aracore.drop(['is_bigg_ec_code','is_bigg_kegg_id','ec_bigg_ids','kegg_bigg_ids'], axis=1, inplace=True)\n",
    "\n",
    "df_reactions_aracore.head(50)"
   ]
  },
  {
   "cell_type": "markdown",
   "id": "188fe232",
   "metadata": {},
   "source": [
    "### Add SEED Reaction ids that are known from the BiGG Table "
   ]
  },
  {
   "cell_type": "code",
   "execution_count": null,
   "id": "8f88b7d3",
   "metadata": {},
   "outputs": [],
   "source": [
    "#Add all ModelSeed ids that have already been mapped to BiGG ids in the Bigg Table\n",
    "df_reactions_aracore['bigg_seed_id'] = df_reactions_aracore['kegg_ec_bigg_id'].apply(lambda bigg_id_list: \n",
    "                                      [df_reactions_bigg[df_reactions_bigg['bigg_id'] == bigg_id]['seed.reaction'] for bigg_id in bigg_id_list] if bigg_id_list else [[None]] )\n",
    "#Process packed lists of ModelSEED Ids\n",
    "df_reactions_aracore['bigg_seed_id'] = df_reactions_aracore['bigg_seed_id'].apply(lambda x: [item_x  for sub_x in x for item_x in sub_x] )\n",
    "\n",
    "#Create list of unique ModelSEED ids\n",
    "df_reactions_aracore['bigg_seed_id'] = df_reactions_aracore['bigg_seed_id'].apply(lambda x: list(np.unique(list(filter(None,x)))))"
   ]
  },
  {
   "cell_type": "markdown",
   "id": "37b638ea",
   "metadata": {},
   "source": [
    "### Mapping AraCore and ModelSeed"
   ]
  },
  {
   "cell_type": "markdown",
   "id": "04fcc11f",
   "metadata": {},
   "source": [
    "#### Using KEGG ids "
   ]
  },
  {
   "cell_type": "code",
   "execution_count": null,
   "id": "bf4c72db",
   "metadata": {},
   "outputs": [],
   "source": [
    "def check_for_kegg_modelseed(kegg_id):\n",
    "  return df_reactions_seed[df_reactions_seed['KEGG'].apply(lambda x: kegg_id in x if x else False)]['id'].tolist() \n",
    "\n",
    "#Map KEGG ids in the aracore table and the ModelSEED table to get additional Seed ids\n",
    "df_reactions_aracore['kegg_seed_ids'] = df_reactions_aracore['kegg_id'].apply(lambda kegg_id: check_for_kegg_modelseed(kegg_id) if isinstance(kegg_id, str) else [None])\n",
    "\n",
    "df_reactions_aracore.head(25)"
   ]
  },
  {
   "cell_type": "code",
   "execution_count": null,
   "id": "72381419",
   "metadata": {},
   "outputs": [],
   "source": [
    "df_reactions_aracore['kegg_seed_ids'].apply(lambda x: isinstance(x,list)).value_counts() #319 reactions with ModelSeed Id"
   ]
  },
  {
   "cell_type": "markdown",
   "id": "4bda33c1",
   "metadata": {},
   "source": [
    "### Add BiGG Reaction ids that are known from the ModelSeed Table¶ "
   ]
  },
  {
   "cell_type": "code",
   "execution_count": null,
   "id": "4e5148d9",
   "metadata": {},
   "outputs": [],
   "source": [
    "#Add all BiGG ids that have already been mapped to ModelSEED ids in the ModelSEED Table\n",
    "df_reactions_aracore['seed_bigg_id'] = df_reactions_aracore['kegg_seed_ids'].apply(lambda kegg_seed_ids: \n",
    "                                            [df_reactions_seed[df_reactions_seed['id'] == seed_id]['BiGG'].tolist() \n",
    "                                            for seed_id in kegg_seed_ids ]\n",
    "                                            if isinstance(kegg_seed_ids, list) else None ) \n",
    "\n",
    "#Process packed lists of BiGG Ids\n",
    "df_reactions_aracore['seed_bigg_id'] = df_reactions_aracore['seed_bigg_id'].apply(lambda x: [item_x  for sub_x in x for item_x in sub_x] if x else None )\n",
    "\n",
    "#Create list of unique BiGG Ids\n",
    "df_reactions_aracore['seed_bigg_id'] = df_reactions_aracore['seed_bigg_id'].apply(lambda x: list(np.unique(list(filter(None,x)))) if x else [None])"
   ]
  },
  {
   "cell_type": "code",
   "execution_count": null,
   "id": "497eb2dd",
   "metadata": {},
   "outputs": [],
   "source": [
    "df_reactions_aracore.head(50)"
   ]
  },
  {
   "cell_type": "markdown",
   "id": "0b65a106",
   "metadata": {},
   "source": [
    "### Aggregate Seed and BiGG Ids "
   ]
  },
  {
   "cell_type": "code",
   "execution_count": null,
   "id": "3d2273ef",
   "metadata": {},
   "outputs": [],
   "source": [
    "#Fuse list of mapped BiGG ids and create list of unique ids\n",
    "df_reactions_aracore['bigg_id_aggr'] = df_reactions_aracore[['seed_bigg_id','kegg_ec_bigg_id']].apply(lambda x: list(filter(None, x[0]+x[1])), axis=1)\n",
    "df_reactions_aracore['bigg_id_aggr'].apply(lambda x: list(np.unique(x)))\n",
    "\n",
    "#Fuse list of mapped Seeds ids and create list of unique ids\n",
    "df_reactions_aracore['seed_id_aggr'] = df_reactions_aracore[['kegg_seed_ids','bigg_seed_id']].apply(lambda x: list(filter(None, x[0]+x[1])), axis=1)\n",
    "df_reactions_aracore['seed_id_aggr'].apply(lambda x: list(np.unique(x)))\n",
    "\n",
    "#Clean dataframe and drop cols\n",
    "df_reactions_aracore.drop(['kegg_ec_bigg_id','bigg_seed_id','kegg_seed_ids','seed_bigg_id'], axis=1, inplace=True)\n",
    "\n",
    "df_reactions_aracore.head(50)"
   ]
  },
  {
   "cell_type": "code",
   "execution_count": null,
   "id": "8909bed3",
   "metadata": {},
   "outputs": [],
   "source": [
    "(df_reactions_aracore['bigg_id_aggr'].apply(len) != 0).value_counts() #298 reactions have at least one bigg id"
   ]
  },
  {
   "cell_type": "code",
   "execution_count": null,
   "id": "11433e7a",
   "metadata": {},
   "outputs": [],
   "source": [
    "(df_reactions_aracore['seed_id_aggr'].apply(len) != 0).value_counts() #320 reactions have at least one seed id"
   ]
  },
  {
   "cell_type": "code",
   "execution_count": null,
   "id": "a79e6a76",
   "metadata": {},
   "outputs": [],
   "source": [
    "#Export final mapping table for manual mapping\n",
    "df_reactions_aracore.to_csv('../data/processed/2021-05-31-reactions-mapping-table.csv') "
   ]
  },
  {
   "cell_type": "code",
   "execution_count": null,
   "id": "d0c4bb4d",
   "metadata": {},
   "outputs": [],
   "source": []
  }
 ],
 "metadata": {
  "kernelspec": {
   "display_name": "Python 3",
   "language": "python",
   "name": "python3"
  },
  "language_info": {
   "codemirror_mode": {
    "name": "ipython",
    "version": 3
   },
   "file_extension": ".py",
   "mimetype": "text/x-python",
   "name": "python",
   "nbconvert_exporter": "python",
   "pygments_lexer": "ipython3",
   "version": "3.9.2"
  }
 },
 "nbformat": 4,
 "nbformat_minor": 5
}
