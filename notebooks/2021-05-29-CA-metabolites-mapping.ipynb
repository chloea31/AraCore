{
 "cells": [
  {
   "cell_type": "code",
   "execution_count": null,
   "id": "bc6d4f55",
   "metadata": {},
   "outputs": [],
   "source": [
    "################################################################################################################################\n",
    "################################################################################################################################\n",
    "############                                -*-  RAPESEED METABOLIC NETWORK -*-                                    #############\n",
    "################################################################################################################################\n",
    "################################################################################################################################\n",
    "\n",
    "\n",
    "\n",
    "################################################################################################################################\n",
    "############                       -*- Apply Community standards for AraCore Model-*-                              #############\n",
    "################################################################################################################################\n",
    "\n",
    "\n",
    "\n",
    "################################################################################################################################\n",
    "############                                  -*- Parameters of the pipeline -*-                                   #############\n",
    "################################################################################################################################\n",
    "\n",
    "\n",
    "datadir = \"../models/2018-23-05-mb-genC3.sbml\""
   ]
  },
  {
   "cell_type": "code",
   "execution_count": null,
   "id": "014d27de",
   "metadata": {},
   "outputs": [],
   "source": [
    "################################################################################################################################\n",
    "################################################################################################################################\n",
    "############                                -*-  RAPESEED METABOLIC NETWORK -*-                                    #############\n",
    "################################################################################################################################\n",
    "################################################################################################################################\n",
    "\n",
    "\n",
    "\n",
    "################################################################################################################################\n",
    "############                       -*- Apply Community standards for AraCore Model-*-                              #############\n",
    "################################################################################################################################\n",
    "\n",
    "\n",
    "\n",
    "################################################################################################################################\n",
    "############                                         -*- Pipeline -*-                                              #############\n",
    "################################################################################################################################\n",
    "\n",
    "\n",
    "\n",
    "####################################################################\n",
    "################## I/ Parsing the file\n",
    "####################################################################\n",
    "\n",
    "\n",
    "##################\n",
    "########### Goal : Etract the information we need to annotate the model : metabolites, reactions and genes\n",
    "##################\n",
    "\n",
    "\n",
    "import cobra\n",
    "import pandas as pd\n",
    "\n",
    "\n",
    "def parsing(fileName):\n",
    "    model = cobra.io.read_sbml_model(fileName)\n",
    "    print(\"Reactions\")\n",
    "    print(\"---------\")\n",
    "    for x in model.reactions:\n",
    "        print(\"%s : %s\" % (x.id, x.reaction))\n",
    "\n",
    "    print(\"Metabolites\")\n",
    "    print(\"-----------\")\n",
    "    for x in model.metabolites:\n",
    "        print(\"%9s : %s\" % (x.id, x.formula))\n",
    "\n",
    "    print(\"Genes\")\n",
    "    print(\"-----\")\n",
    "    for x in model.genes:\n",
    "        associated_ids = (i.id for i in x.reactions)\n",
    "        print(\"%s is associated with reactions: %s\" %\n",
    "        (x.id, \"{\" + \", \".join(associated_ids) + \"}\"))\n",
    "\n",
    "parsing(datadir)\n",
    "\n",
    "\n",
    "\n",
    "###################################################################\n",
    "################## II/ Annotate the initial model\n",
    "###################################################################\n",
    "\n",
    "\n",
    "###################\n",
    "############ Goal : Introducing new annotations to the initial model => use of MIRIAM standards for metabolites\n",
    "###################\n",
    "\n",
    "\n",
    "############\n",
    "### 1st step : Create a mapping table for metabolites\n",
    "############\n",
    "\n",
    "\n",
    "model = cobra.io.read_sbml_model(fileName)\n",
    "\n",
    "data = []\n",
    "df = pd.DataFrame(\n",
    "    {\n",
    "        \"IDs\" : [x.id for x in model.metabolites],\n",
    "        \"Name\" : [x.name for x in model.metabolites],\n",
    "        \"Chemical formula\" : [x.formula for x in model.metabolites]\n",
    "    })\n",
    "df"
   ]
  },
  {
   "cell_type": "code",
   "execution_count": null,
   "id": "0cfebcb4",
   "metadata": {
    "scrolled": true
   },
   "outputs": [],
   "source": [
    "cobra.io.sbml.validate_sbml_model(datadir) # to see if there are problems with our file"
   ]
  },
  {
   "cell_type": "code",
   "execution_count": null,
   "id": "a09f79bc",
   "metadata": {},
   "outputs": [],
   "source": [
    "# Create the dataframe\n",
    "fileName = datadir\n",
    "model = cobra.io.read_sbml_model(fileName)\n",
    "df_mapping_table = pd.DataFrame(\n",
    "    {\n",
    "        \"IDs\" : [x.id for x in model.metabolites],\n",
    "        \"Name\" : [x.name for x in model.metabolites],\n",
    "        \"Formula\" : [x.formula for x in model.metabolites]\n",
    "    })\n",
    "df_mapping_table # mapping table "
   ]
  },
  {
   "cell_type": "code",
   "execution_count": null,
   "id": "c1cb01d7",
   "metadata": {},
   "outputs": [],
   "source": [
    "df_mapping_table[\"formula_no_X\"] = df_mapping_table[\"Formula\"].replace(\"X\", float(\"Nan\")) # WARNING !! Nan is a value => float()\n",
    "# necessary!\n",
    "# df_mapping_table[\"formula_no_X\"] is a Serie (one column)\n",
    "df_mapping_table # is the data frame"
   ]
  },
  {
   "cell_type": "code",
   "execution_count": null,
   "id": "78f1beae",
   "metadata": {},
   "outputs": [],
   "source": [
    "df_mapping_table.shape # to print the dimensions of the data frame"
   ]
  },
  {
   "cell_type": "code",
   "execution_count": null,
   "id": "05778357",
   "metadata": {},
   "outputs": [],
   "source": [
    "# Obtaining IDs with BIGG Model database\n",
    "\n",
    "# Import the BIGG Models metabolites file \n",
    "bigg_models_metabolites = pd.read_csv('../data/external/bigg_models_metabolites.txt', sep = \"\\t\")\n",
    "bigg_models_metabolites.head()"
   ]
  },
  {
   "cell_type": "code",
   "execution_count": null,
   "id": "d9dbdec5",
   "metadata": {},
   "outputs": [],
   "source": [
    "bigg_models_metabolites.shape # to print the dimensions of the data frame"
   ]
  },
  {
   "cell_type": "code",
   "execution_count": null,
   "id": "21e9bf37",
   "metadata": {},
   "outputs": [],
   "source": [
    "# As we want to obtain universal BIGG IDs according to MIRIAM standards, we will adapt our notations to the ones presented in \n",
    "# the table bigg_models_metabolites, then merge the two tables\n",
    "\n",
    "# Select the columns of interest in the table named bigg_models_metabolites\n",
    "universal_bigg_id = bigg_models_metabolites.iloc[:, :2] # slicing : select all the rows and the 2 first columns\n",
    "universal_bigg_id"
   ]
  },
  {
   "cell_type": "code",
   "execution_count": null,
   "id": "185b0fa9",
   "metadata": {},
   "outputs": [],
   "source": [
    "df_mapping_table[\"ID_lower\"] = df_mapping_table[\"IDs\"].apply(str.lower) # WARNING! str.lower(): lower() function ALWAYS from a string !!! \n",
    "df_mapping_table"
   ]
  },
  {
   "cell_type": "code",
   "execution_count": null,
   "id": "a8357a96",
   "metadata": {
    "scrolled": true
   },
   "outputs": [],
   "source": [
    "# Merge the data frame with data from the BIGG Model database (universal bigg id)\n",
    "# WARNING !! To merge, we need to have two data frames !\n",
    "# 1st merge : merge with the BIGG_ID\n",
    "df_merge = df_mapping_table.merge(universal_bigg_id, how = 'left', left_on = \"ID_lower\", right_on = 'bigg_id')\n",
    "df_merge"
   ]
  },
  {
   "cell_type": "code",
   "execution_count": null,
   "id": "16612132",
   "metadata": {
    "scrolled": true
   },
   "outputs": [],
   "source": [
    "df_merge.info() # info() function : to print a summary of the data frame obtained after the merge"
   ]
  },
  {
   "cell_type": "code",
   "execution_count": null,
   "id": "3ba6d881",
   "metadata": {},
   "outputs": [],
   "source": [
    "# Obtaining the IDs according to ModelSEED database\n",
    "\n",
    "compoundsModelSEED = pd.read_csv(\"../data/external/compoundsModelSEED.txt\", sep = \"\\t\")\n",
    "compoundsModelSEED.head()"
   ]
  },
  {
   "cell_type": "code",
   "execution_count": null,
   "id": "f191f675",
   "metadata": {},
   "outputs": [],
   "source": [
    "compoundsModelSEED.shape # to print the dimensions of the data frame"
   ]
  },
  {
   "cell_type": "code",
   "execution_count": null,
   "id": "f0bb32f4",
   "metadata": {},
   "outputs": [],
   "source": [
    "compoundsModelSEED.info() # to print the summary of the data frame"
   ]
  },
  {
   "cell_type": "code",
   "execution_count": null,
   "id": "a4eff81d",
   "metadata": {},
   "outputs": [],
   "source": [
    "def remove_container(ID_lower): \n",
    "    # not for loop, because apply() function will call the remove_container function whenever necessary, so far each row of the data frame\n",
    "    ID_lower_no_c = ID_lower[:-2] # to remove the container => so, the 2 last characters of the string\n",
    "    return ID_lower_no_c # we want to return the ID_lower without the container, so without the 2 last characters of the string\n",
    "df_merge[\"IDs_lower_no_c\"] = df_merge[\"ID_lower\"].apply(remove_container)\n",
    "df_merge"
   ]
  },
  {
   "cell_type": "code",
   "execution_count": null,
   "id": "fd815ab5",
   "metadata": {
    "scrolled": true
   },
   "outputs": [],
   "source": [
    "# Merge the data frame with ModelSEED compounds (IDs and abbreviations) \n",
    "df_merge_ModelSEED = df_merge.merge(compoundsModelSEED[[\"id\", \"abbreviation\"]], how = 'left', left_on = 'IDs_lower_no_c', right_on = 'abbreviation')\n",
    "df_merge_ModelSEED "
   ]
  },
  {
   "cell_type": "code",
   "execution_count": null,
   "id": "e1224422",
   "metadata": {},
   "outputs": [],
   "source": [
    "df_merge_ModelSEED.info() # to have a summary of the data frame"
   ]
  },
  {
   "cell_type": "code",
   "execution_count": null,
   "id": "956243b2",
   "metadata": {},
   "outputs": [],
   "source": [
    "# Filtering specific rows from the data frame to look at names which have an ID both in BIGG Model and in ModelSEED\n",
    "# notna() function : detects missing values in the data frame\n",
    "df_merge_noNAN = df_merge_ModelSEED[df_merge_ModelSEED[\"universal_bigg_id\"].notna() & df_merge_ModelSEED[\"abbreviation\"].notna()]\n",
    "df_merge_noNAN "
   ]
  },
  {
   "cell_type": "code",
   "execution_count": null,
   "id": "e2150c95",
   "metadata": {
    "scrolled": true
   },
   "outputs": [],
   "source": [
    "df_merge_noNAN.info() "
   ]
  },
  {
   "cell_type": "code",
   "execution_count": null,
   "id": "06c57c25",
   "metadata": {},
   "outputs": [],
   "source": [
    "# Filtering specific rows from the data frame to look at names which have an ID either in BIGG Model either in ModelSEED\n",
    "# => XOR in pandas : exclusive union\n",
    "df_merge_ID = df_merge_ModelSEED[df_merge_ModelSEED[\"universal_bigg_id\"].notna() ^ df_merge_ModelSEED[\"abbreviation\"].notna()]\n",
    "df_merge_ID"
   ]
  },
  {
   "cell_type": "code",
   "execution_count": null,
   "id": "3ceed73c",
   "metadata": {},
   "outputs": [],
   "source": [
    "df_merge_ModelSEED[\"bigg_id\"] = \"M_\" + df_merge_ModelSEED[\"bigg_id\"]\n",
    "df_merge_ModelSEED"
   ]
  },
  {
   "cell_type": "code",
   "execution_count": null,
   "id": "3ea85b9a",
   "metadata": {},
   "outputs": [],
   "source": [
    "#df_final = df_merge_ModelSEED.rename(columns = {\"bigg_id\" : \"universal_BIGG_id\", \"id\" : \"ModelSEED_id\", \"abbreviation\" : \"abbreviation_ModelSEED\"})\n",
    "df_final = df_merge_ModelSEED.set_index('IDs')\n",
    "df_final"
   ]
  },
  {
   "cell_type": "code",
   "execution_count": null,
   "id": "77d2713d",
   "metadata": {},
   "outputs": [],
   "source": [
    "df_final.to_csv(\"../data/processed/2021-05-20-CA-metabolite-mapping-table1-output.csv\") # to save the first version of the mapping table as a CSV file"
   ]
  },
  {
   "cell_type": "code",
   "execution_count": null,
   "id": "600974f7",
   "metadata": {},
   "outputs": [],
   "source": [
    "# To be clear (we hope), we rename the \"id\" and the \"abbreviation\" columns => ModelSEED_id and ModelSEED_abbreviation\n",
    "df_final_renamed = df_final.rename(columns = {\"id\":\"ModelSEED_id\", \"abbreviation\":\"ModelSEED_abbreviation\"})\n",
    "df_final_renamed"
   ]
  },
  {
   "cell_type": "code",
   "execution_count": null,
   "id": "fc6feea6",
   "metadata": {},
   "outputs": [],
   "source": [
    "def cutID_lower(ID_lower):\n",
    "    IDs_no_c = ID_lower[:-2]\n",
    "    return IDs_no_c\n",
    "df_final_renamed[\"BIGG_IDs_no_c\"] = df_final_renamed[\"ID_lower\"].apply(cutID_lower)\n",
    "df_final_renamed"
   ]
  },
  {
   "cell_type": "code",
   "execution_count": null,
   "id": "12bad56a",
   "metadata": {
    "scrolled": true
   },
   "outputs": [],
   "source": [
    "# BIGG-ID : 1st merge on the IDs => Would we have more results with the universal BIGG IDs?\n",
    "# => 2nd merge on the universal BIGG IDs\n",
    "# Start from the initial mapping table\n",
    "df_merge_universal_bigg_id = df_final_renamed.merge(universal_bigg_id, how = 'left', left_on = \"BIGG_IDs_no_c\", right_on = 'universal_bigg_id')\n",
    "df_merge_universal_bigg_id\n",
    "# We have a little bit more correspondences between the BIGG IDs and the universal BIGG IDs, but not so much (40 more apparently)\n",
    "# => We will try to merge with the column \"formula\", according to the chemical formulas"
   ]
  },
  {
   "cell_type": "code",
   "execution_count": null,
   "id": "83133006",
   "metadata": {},
   "outputs": [],
   "source": [
    "df_merge_universal_bigg_id.info()"
   ]
  },
  {
   "cell_type": "code",
   "execution_count": null,
   "id": "656a0d63",
   "metadata": {},
   "outputs": [],
   "source": [
    "# Merge data frame BIGG Model (df_merge) with data frame ModelSEED (compoundsModelSEED)(column \"formula\"):\n",
    "# 1) We open and we observe the file .sbml\n",
    "# 2) We look at the .sbml file to see if there are the chemical formulas\n",
    "# 3) If we have information concerning chemical formulas (this is the case here), we add a column in the df_merge data frame \n",
    "# called \"chemical formula\", and we add the information concernig chemical formulas into this column from the .sbml file\n",
    "# 4) Filter all the values which don't have any value (NaN) in the first data frame (df_mapping_table) : we create a new dataframe\n",
    "# (see below) constituted by all the data which have no \"NaN\" as values; indeed, if we merge the dataframes with the mapping table\n",
    "# containing the missing values, the merge will be performed on these values (\"NaN\") : so, we will have a lot of data which will \n",
    "# be duplicated\n",
    "# 5) We merge the two data frames : df_merge (having the supplemental columns Formula and formula_no_X) with compoundsModelSEED:\n",
    "# we use the data from ModelSEED compounds database because it contains chemical formulas; it is not the case for the BIGG \n",
    "# database \n",
    "df_mapping_table_noNaN = df_mapping_table[df_mapping_table[\"formula_no_X\"].notna()]\n",
    "df_mapping_table_noNaN"
   ]
  },
  {
   "cell_type": "code",
   "execution_count": null,
   "id": "5c9b1e82",
   "metadata": {
    "scrolled": true
   },
   "outputs": [],
   "source": [
    "df_mapping_table_noNaN.info()"
   ]
  },
  {
   "cell_type": "code",
   "execution_count": null,
   "id": "88c15a25",
   "metadata": {
    "scrolled": false
   },
   "outputs": [],
   "source": [
    "# Merge the two data frames df_mapping_table_noNaN and compoundsModelSEED: \n",
    "df_merge_formula = df_mapping_table_noNaN.merge(compoundsModelSEED, how = \"left\", left_on = \"formula_no_X\", right_on = \"formula\")\n",
    "df_merge_formula\n",
    "# In the results, and according to the compounds described in the ModelSEED database, Plastoquinone-1 seems to be the polymer 1\n",
    "# => repetition of CH2-CH=CH-CH2 | CH2-CH=CH-CH3 once (n from 1 to 9)\n",
    "# Now, we can have all the IDs ModelSEED"
   ]
  },
  {
   "cell_type": "code",
   "execution_count": null,
   "id": "2dd7f30c",
   "metadata": {},
   "outputs": [],
   "source": [
    "df_merge_formula = df_merge_formula.rename(columns = {\"id\":\"ModelSEED_id\", \"abbreviation\":\"ModelSEED_abbreviation\", \"name\":\"ModelSEED_name\"})\n",
    "df_merge_formula"
   ]
  },
  {
   "cell_type": "code",
   "execution_count": null,
   "id": "02df632e",
   "metadata": {},
   "outputs": [],
   "source": [
    "df_merge_formula.info() # ModelSEED_id < IDs and formula_no_X => 46 metabolites to search on the databases by hand"
   ]
  },
  {
   "cell_type": "code",
   "execution_count": null,
   "id": "0790f50d",
   "metadata": {},
   "outputs": [],
   "source": [
    "# Now, we would like to merge the two data frames (the one with noNan, containing the IDs and the formulas for the two databases)\n",
    "# and the one containing all the Nan \n",
    "# Select the data frame containing all the NaN => isna() function in pandas (conversly to notna() function)\n",
    "df_mapping_table_isNaN = df_mapping_table.isna()\n",
    "df_mapping_table_isNaN"
   ]
  },
  {
   "cell_type": "code",
   "execution_count": null,
   "id": "2059174d",
   "metadata": {},
   "outputs": [],
   "source": [
    "df_mapping_table_isNaN = df_mapping_table[df_mapping_table[\"formula_no_X\"].isna()] # coupled with the filter\n",
    "# We can select rows\n",
    "df_mapping_table_isNaN \n",
    "# Why aren't there chemical formulas for plastocyanin, proton gradient and NADH (oxidised and reduced) ?\n",
    "# => 7 rows selected => 7 more metabolites to search by hand => 53 metabolites to search by hand in total (46 + 7)"
   ]
  },
  {
   "cell_type": "code",
   "execution_count": null,
   "id": "5616fc16",
   "metadata": {},
   "outputs": [],
   "source": [
    "# Concatenate the 2 data frames : df_merge_formula and df_mapping_table_isNaN \n",
    "frames = [df_merge_formula, df_mapping_table_isNaN]\n",
    "result = pd.concat(frames)\n",
    "result"
   ]
  },
  {
   "cell_type": "code",
   "execution_count": null,
   "id": "2fa6c7f8",
   "metadata": {},
   "outputs": [],
   "source": [
    "# remove the index on the left of the data frame \n",
    "result_set_index = result.set_index('IDs')\n",
    "result_set_index"
   ]
  },
  {
   "cell_type": "code",
   "execution_count": null,
   "id": "f7afe0ad",
   "metadata": {},
   "outputs": [],
   "source": [
    "# convert the data frame without the index to a CSV file format\n",
    "result_csv = result_set_index.to_csv('../data/processed/2021-05-29-CA-metabolite-mapping-table2-output.csv')"
   ]
  },
  {
   "cell_type": "code",
   "execution_count": null,
   "id": "ea98deb7",
   "metadata": {},
   "outputs": [],
   "source": [
    "# Now, we :\n",
    "# 1) open the csv file\n",
    "# 2) try to search a few IDs in at least one of the two data bases : BIGG_ID or ModelSEED\n",
    "# 3) report the universal bigg_id or the ID found in the ModelSEED database in the corresponding case in the csv file (just for\n",
    "# the comparison)\n",
    "# 4) try to look at the IDs we have reported in the csv file and find a way to merge the IDs from the starting data frame with \n",
    "# the IDs reported (comparison of the IDs from the starting data frame with the IDs found in the data bases)\n",
    "# => Merge the IDs of the starting mapping table (column named IDs) with the universal BIGG ID\n",
    "metabolite_mapping_table2 = pd.read_csv('../data/processed/2021-05-29-CA-metabolite-mapping-table2-output.csv', sep = \",\")\n",
    "metabolite_mapping_table2.head()"
   ]
  },
  {
   "cell_type": "code",
   "execution_count": null,
   "id": "4299fc89",
   "metadata": {},
   "outputs": [],
   "source": [
    "metabolite_mapping_table2[\"ID_lower\"] = metabolite_mapping_table2[\"IDs\"].apply(str.lower) # WARNING! str.lower(): lower() function ALWAYS from a string !!! \n",
    "metabolite_mapping_table2"
   ]
  },
  {
   "cell_type": "code",
   "execution_count": null,
   "id": "6d3a56dc",
   "metadata": {},
   "outputs": [],
   "source": [
    "metabolite_mapping_table2_merge = metabolite_mapping_table2.merge(universal_bigg_id, how = 'left', left_on = 'ID_lower', right_on = 'bigg_id')\n",
    "metabolite_mapping_table2_merge"
   ]
  },
  {
   "cell_type": "code",
   "execution_count": null,
   "id": "91b367d0",
   "metadata": {},
   "outputs": [],
   "source": [
    "metabolite_mapping_table2_merge.info()"
   ]
  },
  {
   "cell_type": "code",
   "execution_count": null,
   "id": "5aadf90a",
   "metadata": {
    "scrolled": true
   },
   "outputs": [],
   "source": [
    "# We want the IDs which do not have a match both in the mapping table MODELSEED ids and both in the universal bigg id from the\n",
    "# BIGG database\n",
    "# XOR in pandas : exclusive union\n",
    "# isna() function\n",
    "df_merge_ID2 = metabolite_mapping_table2_merge[metabolite_mapping_table2_merge[\"universal_bigg_id\"].isna() & metabolite_mapping_table2_merge[\"ModelSEED_abbreviation\"].isna()]\n",
    "df_merge_ID2"
   ]
  },
  {
   "cell_type": "code",
   "execution_count": null,
   "id": "5608ea8f",
   "metadata": {},
   "outputs": [],
   "source": [
    "df_merge_ID2.info()\n",
    "# In total : we would have 28 metabolites to search in the databases \n",
    "# => How to do to respect the format in identifiers.org ?"
   ]
  },
  {
   "cell_type": "code",
   "execution_count": null,
   "id": "af55042d",
   "metadata": {},
   "outputs": [],
   "source": [
    "metabolites_mapping_table_final = metabolite_mapping_table2_merge.set_index(\"IDs\")\n",
    "metabolites_mapping_table_final "
   ]
  },
  {
   "cell_type": "code",
   "execution_count": null,
   "id": "ca17c4f6",
   "metadata": {},
   "outputs": [],
   "source": [
    "metabolites_mapping_table_final.to_csv(\"../data/processed/2021-05-29-CA-metabolite-mapping-table-final-output.csv\")"
   ]
  },
  {
   "cell_type": "code",
   "execution_count": null,
   "id": "f6ff4476",
   "metadata": {},
   "outputs": [],
   "source": [
    "# 22 metabolites found in the BIGG Model and ModelSEED databases out of 42\n",
    "# => Why 42 instead of 28?\n",
    "# => When we open the file and filter the data on excel or Open Office, please filter according to the BOTH conditions, as\n",
    "# described in above, that is to say according to ModelSEED abbreviation AND universal BIGG id!!  "
   ]
  },
  {
   "cell_type": "code",
   "execution_count": null,
   "id": "738a8445",
   "metadata": {},
   "outputs": [],
   "source": [
    "metabolites_mapping_table_final_version2 = metabolites_mapping_table_final.drop([\"formula\", \"formula_no_X\",\"ID_lower\",\"mass\", \"source\",\"inchikey\", \"charge\", \"is_core\", \"is_obsolete\", \"linked_compound\", \"is_cofactor\", \"deltag\", \"deltagerr\", \"pka\", \"pkb\", \"abstract_compound\", \"comprised_of\", \"aliases\", \"smiles\", \"notes\"], axis = 1)\n",
    "metabolites_mapping_table_final_version2"
   ]
  },
  {
   "cell_type": "code",
   "execution_count": null,
   "id": "5a4ed83b",
   "metadata": {},
   "outputs": [],
   "source": [
    "metabolites_mapping_table_final_version2.to_csv(\"../data/processed/2021-05-29-CA-metabolite-mapping-table-final2-output.csv\")"
   ]
  },
  {
   "cell_type": "code",
   "execution_count": null,
   "id": "0f930dd0",
   "metadata": {},
   "outputs": [],
   "source": []
  }
 ],
 "metadata": {
  "kernelspec": {
   "display_name": "Python 3",
   "language": "python",
   "name": "python3"
  },
  "language_info": {
   "codemirror_mode": {
    "name": "ipython",
    "version": 3
   },
   "file_extension": ".py",
   "mimetype": "text/x-python",
   "name": "python",
   "nbconvert_exporter": "python",
   "pygments_lexer": "ipython3",
   "version": "3.9.2"
  }
 },
 "nbformat": 4,
 "nbformat_minor": 5
}
